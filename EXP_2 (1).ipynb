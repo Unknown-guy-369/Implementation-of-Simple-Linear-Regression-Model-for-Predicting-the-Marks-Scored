{
 "cells": [
  {
   "cell_type": "code",
   "execution_count": null,
   "id": "ff4e6a78-4baa-4ebf-98c9-c0785170c4b5",
   "metadata": {},
   "outputs": [],
   "source": [
    "print(\"Reg.no:212224240004\")\n",
    "print(\"Name:Abishek Priyan M\")\n",
    "\n",
    "import pandas as pd\n",
    "import numpy as np\n",
    "from sklearn.metrics import mean_absolute_error,mean_squared_error\n",
    "import matplotlib.pyplot as plt\n",
    "\n",
    "dataset=pd.read_csv('student_scores.csv')\n",
    "print(dataset.head())\n",
    "dataset=pd.read_csv('student_scores.csv')\n",
    "print(dataset.tail())\n",
    "x=dataset.iloc[:,:-1].values\n",
    "print(x)\n",
    "y=dataset.iloc[:,1].values\n",
    "print(y)\n",
    "\n",
    "from sklearn.model_selection import train_test_split\n",
    "x_train,x_test,y_train,y_test=train_test_split(x,y,test_size=1/3,random_state=0)\n",
    "from sklearn.linear_model import LinearRegression\n",
    "reg=LinearRegression()\n",
    "reg.fit(x_train,y_train)\n",
    "y_pred = reg.predict(x_test)\n",
    "print(y_pred)\n",
    "print(y_test)\n",
    "\n",
    "mse=mean_absolute_error(y_test,y_pred)\n",
    "print('Mean Square Error = ',mse)\n",
    "mae=mean_absolute_error(y_test,y_pred)\n",
    "print('Mean Absolute Error = ',mae)\n",
    "rmse=np.sqrt(mse)\n",
    "print(\"Root Mean Square Error = \",rmse)\n",
    "\n",
    "plt.scatter(x_train,y_train,color='purple')\n",
    "plt.plot(x_train,reg.predict(x_train),color='black')\n",
    "plt.title(\"Hours vs Scores(Training set)\")\n",
    "plt.xlabel(\"Hours\")\n",
    "plt.ylabel(\"Scores\")\n",
    "plt.show()\n",
    "\n",
    "plt.scatter(x_test,y_test,color='red')\n",
    "plt.plot(x_train,reg.predict(x_train),color='black')\n",
    "plt.title(\"Hours vs Scores(Test set)\")\n",
    "plt.xlabel(\"Hours\")\n",
    "plt.ylabel(\"Scores\")\n",
    "plt.show()\n",
    "\n",
    "\n"
   ]
  }
 ],
 "metadata": {
  "kernelspec": {
   "display_name": "Python [conda env:base] *",
   "language": "python",
   "name": "conda-base-py"
  },
  "language_info": {
   "codemirror_mode": {
    "name": "ipython",
    "version": 3
   },
   "file_extension": ".py",
   "mimetype": "text/x-python",
   "name": "python",
   "nbconvert_exporter": "python",
   "pygments_lexer": "ipython3",
   "version": "3.12.7"
  }
 },
 "nbformat": 4,
 "nbformat_minor": 5
}
